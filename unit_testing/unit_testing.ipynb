{
 "cells": [
  {
   "cell_type": "markdown",
   "metadata": {},
   "source": [
    "# Unit Testing"
   ]
  },
  {
   "cell_type": "markdown",
   "metadata": {},
   "source": [
    "To run unittest script in terminal instead of using:\n",
    "\n",
    "`python my_tests.py`\n",
    "\n",
    "`python -m unittest my_tests.py`\n",
    "\n",
    "For runing unittest in a cell:\n",
    "\n",
    "`unittest.main(argv=[''], defaultTest='TestName', verbosity=2, exit=False)`"
   ]
  },
  {
   "cell_type": "code",
   "execution_count": 1,
   "metadata": {},
   "outputs": [],
   "source": [
    "def multiply_with_loop_imperfect(x, y):\n",
    "    return sum(y for _ in range(x))"
   ]
  },
  {
   "cell_type": "code",
   "execution_count": 2,
   "metadata": {},
   "outputs": [],
   "source": [
    "import unittest\n",
    "\n",
    "class TestMultiplyImperfect(unittest.TestCase):\n",
    "    # tests allways have to start with the key word test\n",
    "    def test_with_two_positives(self):\n",
    "        self.assertEqual(multiply_with_loop_imperfect(10, 5), 10 * 5)\n",
    "        self.assertEqual(multiply_with_loop_imperfect(5165431, 5168743), 5165431 * 5168743)\n",
    "        self.assertEqual(multiply_with_loop_imperfect(1, 2), 2)\n",
    "\n",
    "    def test_with_one_zero(self):\n",
    "        self.assertEqual(multiply_with_loop_imperfect(137, 0), 0)\n",
    "        self.assertEqual(multiply_with_loop_imperfect(0, 137), 0)\n",
    "\n",
    "    def test_with_two_zeroes(self):\n",
    "        self.assertEqual(multiply_with_loop_imperfect(0, 0), 0)\n",
    "\n",
    "    def test_with_one_negative(self):\n",
    "        self.assertEqual(multiply_with_loop_imperfect(-10, 5), (-10) * 5)\n",
    "        self.assertEqual(multiply_with_loop_imperfect(10, -5), 10 * (-5))\n",
    "\n",
    "    def test_with_two_negatives(self):\n",
    "        self.assertEqual(multiply_with_loop_imperfect(-10, -5), 50)"
   ]
  },
  {
   "cell_type": "code",
   "execution_count": 3,
   "metadata": {},
   "outputs": [
    {
     "name": "stderr",
     "output_type": "stream",
     "text": [
      "test_with_one_negative (__main__.TestMultiplyImperfect.test_with_one_negative) ... FAIL\n",
      "test_with_one_zero (__main__.TestMultiplyImperfect.test_with_one_zero) ... ok\n",
      "test_with_two_negatives (__main__.TestMultiplyImperfect.test_with_two_negatives) ... FAIL\n",
      "test_with_two_positives (__main__.TestMultiplyImperfect.test_with_two_positives) ... ok\n",
      "test_with_two_zeroes (__main__.TestMultiplyImperfect.test_with_two_zeroes) ... ok\n",
      "\n",
      "======================================================================\n",
      "FAIL: test_with_one_negative (__main__.TestMultiplyImperfect.test_with_one_negative)\n",
      "----------------------------------------------------------------------\n",
      "Traceback (most recent call last):\n",
      "  File \"C:\\Users\\cristian_torres\\AppData\\Local\\Temp\\ipykernel_1884\\3887314880.py\", line 18, in test_with_one_negative\n",
      "    self.assertEqual(multiply_with_loop_imperfect(-10, 5), (-10) * 5)\n",
      "AssertionError: 0 != -50\n",
      "\n",
      "======================================================================\n",
      "FAIL: test_with_two_negatives (__main__.TestMultiplyImperfect.test_with_two_negatives)\n",
      "----------------------------------------------------------------------\n",
      "Traceback (most recent call last):\n",
      "  File \"C:\\Users\\cristian_torres\\AppData\\Local\\Temp\\ipykernel_1884\\3887314880.py\", line 22, in test_with_two_negatives\n",
      "    self.assertEqual(multiply_with_loop_imperfect(-10, -5), 50)\n",
      "AssertionError: 0 != 50\n",
      "\n",
      "----------------------------------------------------------------------\n",
      "Ran 5 tests in 0.592s\n",
      "\n",
      "FAILED (failures=2)\n"
     ]
    },
    {
     "data": {
      "text/plain": [
       "<unittest.main.TestProgram at 0x1c51019f650>"
      ]
     },
     "execution_count": 3,
     "metadata": {},
     "output_type": "execute_result"
    }
   ],
   "source": [
    "unittest.main(argv=[''], defaultTest='TestMultiplyImperfect', verbosity=2, exit=False)"
   ]
  },
  {
   "cell_type": "markdown",
   "metadata": {},
   "source": [
    "---"
   ]
  },
  {
   "cell_type": "code",
   "execution_count": 4,
   "metadata": {},
   "outputs": [],
   "source": [
    "def multiply_with_loop_improved(x, y):\n",
    "    if (x >= 0 and y >= 0) or (x < 0 and y < 0):\n",
    "        return sum(abs(y) for _ in range(abs(x)))\n",
    "    elif x < 0:\n",
    "        return sum(x for _ in range(y))\n",
    "    else:\n",
    "        return sum(y for _ in range(x))"
   ]
  },
  {
   "cell_type": "code",
   "execution_count": 5,
   "metadata": {},
   "outputs": [],
   "source": [
    "class TestMultiplyImproved(unittest.TestCase):\n",
    "    # tests allways have to start with the key word test\n",
    "    def test_with_two_positives(self):\n",
    "        self.assertEqual(multiply_with_loop_improved(10, 5), 10 * 5)\n",
    "        self.assertEqual(multiply_with_loop_improved(5165431, 5168743), 5165431 * 5168743)\n",
    "        self.assertEqual(multiply_with_loop_improved(1, 2), 2)\n",
    "\n",
    "    def test_with_one_zero(self):\n",
    "        self.assertEqual(multiply_with_loop_improved(137, 0), 0)\n",
    "        self.assertEqual(multiply_with_loop_improved(0, 137), 0)\n",
    "\n",
    "    def test_with_two_zeroes(self):\n",
    "        self.assertEqual(multiply_with_loop_improved(0, 0), 0)\n",
    "\n",
    "    def test_with_one_negative(self):\n",
    "        self.assertEqual(multiply_with_loop_improved(-10, 5), (-10) * 5)\n",
    "        self.assertEqual(multiply_with_loop_improved(10, -5), 10 * (-5))\n",
    "\n",
    "    def test_with_two_negatives(self):\n",
    "        self.assertEqual(multiply_with_loop_improved(-10, -5), 50)"
   ]
  },
  {
   "cell_type": "code",
   "execution_count": 6,
   "metadata": {},
   "outputs": [
    {
     "name": "stderr",
     "output_type": "stream",
     "text": [
      "test_with_one_negative (__main__.TestMultiplyImproved.test_with_one_negative) ... ok\n",
      "test_with_one_zero (__main__.TestMultiplyImproved.test_with_one_zero) ... ok\n",
      "test_with_two_negatives (__main__.TestMultiplyImproved.test_with_two_negatives) ... ok\n",
      "test_with_two_positives (__main__.TestMultiplyImproved.test_with_two_positives) ... ok\n",
      "test_with_two_zeroes (__main__.TestMultiplyImproved.test_with_two_zeroes) ... ok\n",
      "\n",
      "----------------------------------------------------------------------\n",
      "Ran 5 tests in 0.660s\n",
      "\n",
      "OK\n"
     ]
    },
    {
     "data": {
      "text/plain": [
       "<unittest.main.TestProgram at 0x1c50f1afe10>"
      ]
     },
     "execution_count": 6,
     "metadata": {},
     "output_type": "execute_result"
    }
   ],
   "source": [
    "unittest.main(argv=[''], defaultTest='TestMultiplyImproved', verbosity=2, exit=False)"
   ]
  },
  {
   "cell_type": "markdown",
   "metadata": {},
   "source": [
    "---"
   ]
  },
  {
   "cell_type": "code",
   "execution_count": 9,
   "metadata": {},
   "outputs": [],
   "source": [
    "import math\n",
    "\n",
    "def length_of_integer(n):\n",
    "    return int(math.floor(math.log10(n)) + 1)"
   ]
  },
  {
   "cell_type": "code",
   "execution_count": 10,
   "metadata": {},
   "outputs": [],
   "source": [
    "class TestIntegerLength(unittest.TestCase):\n",
    "    # tests allways have to start with the key word test\n",
    "    def test_with_positive_integer(self):\n",
    "        self.assertEqual(length_of_integer(123456), 6)\n",
    "        self.assertEqual(length_of_integer(1), 1)\n",
    "        self.assertEqual(length_of_integer(10), 2)\n",
    "\n",
    "    # the length must include the negative symbol\n",
    "    def test_with_negative_integer(self):\n",
    "        self.assertEqual(length_of_integer(-123), 4)\n",
    "        self.assertEqual(length_of_integer(-1), 2)\n",
    "        self.assertEqual(length_of_integer(-123456), 7)\n",
    "\n",
    "    def test_with_zero(self):\n",
    "        self.assertEqual(length_of_integer(0), 1)\n",
    "\n",
    "    def test_with_invalid_type(self):\n",
    "        self.assertRaises(TypeError, length_of_integer, \"12345\")\n",
    "        self.assertRaises(TypeError, length_of_integer, \"Hello\")\n",
    "        self.assertRaises(TypeError, length_of_integer, True)\n",
    "        self.assertRaises(TypeError, length_of_integer, 123.123)\n",
    "        self.assertRaises(TypeError, length_of_integer, [1, 2, 3])"
   ]
  },
  {
   "cell_type": "code",
   "execution_count": 11,
   "metadata": {},
   "outputs": [
    {
     "name": "stderr",
     "output_type": "stream",
     "text": [
      "test_with_invalid_type (__main__.TestIntegerLength.test_with_invalid_type) ... FAIL\n",
      "test_with_negative_integer (__main__.TestIntegerLength.test_with_negative_integer) ... ERROR\n",
      "test_with_positive_integer (__main__.TestIntegerLength.test_with_positive_integer) ... ok\n",
      "test_with_zero (__main__.TestIntegerLength.test_with_zero) ... ERROR\n",
      "\n",
      "======================================================================\n",
      "ERROR: test_with_negative_integer (__main__.TestIntegerLength.test_with_negative_integer)\n",
      "----------------------------------------------------------------------\n",
      "Traceback (most recent call last):\n",
      "  File \"C:\\Users\\cristian_torres\\AppData\\Local\\Temp\\ipykernel_1884\\2665897164.py\", line 10, in test_with_negative_integer\n",
      "    self.assertEqual(length_of_integer(-123), 4)\n",
      "                     ^^^^^^^^^^^^^^^^^^^^^^^\n",
      "  File \"C:\\Users\\cristian_torres\\AppData\\Local\\Temp\\ipykernel_1884\\2258172569.py\", line 4, in length_of_integer\n",
      "    return int(math.floor(math.log10(n)) + 1)\n",
      "                          ^^^^^^^^^^^^^\n",
      "ValueError: math domain error\n",
      "\n",
      "======================================================================\n",
      "ERROR: test_with_zero (__main__.TestIntegerLength.test_with_zero)\n",
      "----------------------------------------------------------------------\n",
      "Traceback (most recent call last):\n",
      "  File \"C:\\Users\\cristian_torres\\AppData\\Local\\Temp\\ipykernel_1884\\2665897164.py\", line 15, in test_with_zero\n",
      "    self.assertEqual(length_of_integer(0), 1)\n",
      "                     ^^^^^^^^^^^^^^^^^^^^\n",
      "  File \"C:\\Users\\cristian_torres\\AppData\\Local\\Temp\\ipykernel_1884\\2258172569.py\", line 4, in length_of_integer\n",
      "    return int(math.floor(math.log10(n)) + 1)\n",
      "                          ^^^^^^^^^^^^^\n",
      "ValueError: math domain error\n",
      "\n",
      "======================================================================\n",
      "FAIL: test_with_invalid_type (__main__.TestIntegerLength.test_with_invalid_type)\n",
      "----------------------------------------------------------------------\n",
      "Traceback (most recent call last):\n",
      "  File \"C:\\Users\\cristian_torres\\AppData\\Local\\Temp\\ipykernel_1884\\2665897164.py\", line 20, in test_with_invalid_type\n",
      "    self.assertRaises(TypeError, length_of_integer, True)\n",
      "AssertionError: TypeError not raised by length_of_integer\n",
      "\n",
      "----------------------------------------------------------------------\n",
      "Ran 4 tests in 0.008s\n",
      "\n",
      "FAILED (failures=1, errors=2)\n"
     ]
    },
    {
     "data": {
      "text/plain": [
       "<unittest.main.TestProgram at 0x1c5101e3fd0>"
      ]
     },
     "execution_count": 11,
     "metadata": {},
     "output_type": "execute_result"
    }
   ],
   "source": [
    "unittest.main(argv=[''], defaultTest='TestIntegerLength', verbosity=2, exit=False)"
   ]
  },
  {
   "cell_type": "markdown",
   "metadata": {},
   "source": [
    "---"
   ]
  },
  {
   "cell_type": "code",
   "execution_count": 12,
   "metadata": {},
   "outputs": [],
   "source": [
    "def length_of_integer_improved(n):\n",
    "    if type(n) is not int:\n",
    "        raise TypeError(\"Invalid Type\")\n",
    "    add = 1 if n >= 0 else 2\n",
    "    return int(math.floor(math.log10(abs(n))) + add) if n != 0 else 1"
   ]
  },
  {
   "cell_type": "code",
   "execution_count": 13,
   "metadata": {},
   "outputs": [],
   "source": [
    "class TestIntegerLengthImproved(unittest.TestCase):\n",
    "    # tests allways have to start with the key word test\n",
    "    def test_with_positive_integer(self):\n",
    "        self.assertEqual(length_of_integer_improved(123456), 6)\n",
    "        self.assertEqual(length_of_integer_improved(1), 1)\n",
    "        self.assertEqual(length_of_integer_improved(10), 2)\n",
    "\n",
    "    # the length must include the negative symbol\n",
    "    def test_with_negative_integer(self):\n",
    "        self.assertEqual(length_of_integer_improved(-123), 4)\n",
    "        self.assertEqual(length_of_integer_improved(-1), 2)\n",
    "        self.assertEqual(length_of_integer_improved(-123456), 7)\n",
    "\n",
    "    def test_with_zero(self):\n",
    "        self.assertEqual(length_of_integer_improved(0), 1)\n",
    "\n",
    "    def test_with_invalid_type(self):\n",
    "        self.assertRaises(TypeError, length_of_integer_improved, \"12345\")\n",
    "        self.assertRaises(TypeError, length_of_integer_improved, \"Hello\")\n",
    "        self.assertRaises(TypeError, length_of_integer_improved, True)\n",
    "        self.assertRaises(TypeError, length_of_integer_improved, 123.123)\n",
    "        self.assertRaises(TypeError, length_of_integer_improved, [1, 2, 3])"
   ]
  },
  {
   "cell_type": "code",
   "execution_count": 14,
   "metadata": {},
   "outputs": [
    {
     "name": "stderr",
     "output_type": "stream",
     "text": [
      "test_with_invalid_type (__main__.TestIntegerLengthImproved.test_with_invalid_type) ... ok\n",
      "test_with_negative_integer (__main__.TestIntegerLengthImproved.test_with_negative_integer) ... ok\n",
      "test_with_positive_integer (__main__.TestIntegerLengthImproved.test_with_positive_integer) ... ok\n",
      "test_with_zero (__main__.TestIntegerLengthImproved.test_with_zero) ... ok\n",
      "\n",
      "----------------------------------------------------------------------\n",
      "Ran 4 tests in 0.006s\n",
      "\n",
      "OK\n"
     ]
    },
    {
     "data": {
      "text/plain": [
       "<unittest.main.TestProgram at 0x1c510252450>"
      ]
     },
     "execution_count": 14,
     "metadata": {},
     "output_type": "execute_result"
    }
   ],
   "source": [
    "unittest.main(argv=[''], defaultTest='TestIntegerLengthImproved', verbosity=2, exit=False)"
   ]
  }
 ],
 "metadata": {
  "kernelspec": {
   "display_name": "venv",
   "language": "python",
   "name": "python3"
  },
  "language_info": {
   "codemirror_mode": {
    "name": "ipython",
    "version": 3
   },
   "file_extension": ".py",
   "mimetype": "text/x-python",
   "name": "python",
   "nbconvert_exporter": "python",
   "pygments_lexer": "ipython3",
   "version": "3.11.3"
  }
 },
 "nbformat": 4,
 "nbformat_minor": 2
}
