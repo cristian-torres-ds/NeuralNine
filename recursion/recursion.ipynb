{
 "cells": [
  {
   "cell_type": "markdown",
   "metadata": {},
   "source": [
    "# **RECURSION**\n",
    "\n",
    "This is a tutorial from the YouTube channel [Reducible](https://www.youtube.com/@Reducible).\n",
    "\n",
    "<img src=\"src/reducible.png\" alt=\"Reducible\" width=\"900\" height=\"auto\">\n",
    "\n",
    "[VIDEO](https://www.youtube.com/watch?v=ngCos392W4w)"
   ]
  },
  {
   "cell_type": "markdown",
   "metadata": {},
   "source": [
    "## Problem 1\n",
    "\n",
    "Write a recursive function that given an imput `n` sums all nonnegative integers up to `n`.\n",
    "\n",
    "<img src=\"src/recursion_001.png\" alt=\"Recursion001\" width=\"900\" height=\"auto\">"
   ]
  },
  {
   "cell_type": "code",
   "execution_count": null,
   "metadata": {},
   "outputs": [],
   "source": [
    "# Iteration\n",
    "def sum_i(n):\n",
    "    result = 0\n",
    "    for i in range(n + 1):\n",
    "        result += i\n",
    "    return result\n",
    "\n",
    "# Mathematical\n",
    "def sum_m(n):\n",
    "    return n * (n + 1) / 2\n",
    "\n",
    "# Recursive\n",
    "def sum_r(n):\n",
    "    if n == 0: # base case\n",
    "        return 0\n",
    "    else:\n",
    "        return n + sum(n - 1)"
   ]
  },
  {
   "cell_type": "markdown",
   "metadata": {},
   "source": [
    "---"
   ]
  },
  {
   "cell_type": "markdown",
   "metadata": {},
   "source": [
    "## Problem 2\n",
    "\n",
    "Write a function that takes two inputs ***n*** and ***m*** and outputs the number of unique paths from the top left corner to bottom right corner of a ***n*** x ***m*** grid.\n",
    "\n",
    "Constraints: you can only move down or right 1 unit at a time."
   ]
  },
  {
   "cell_type": "markdown",
   "metadata": {},
   "source": [
    "1. What's the simplest possible input?\n",
    "\n",
    "    `grid_paths(1, 1)` <br>\n",
    "`grid_paths(2, 1)` <br>\n",
    "`grid_paths(1, 2)` <br>\n",
    "`grid_paths(1, m)` <br>\n",
    "`grid_paths(n, 1)` <br>\n",
    "`grid_paths(n,m)` -> 1 if ***n*** = 1 or ***m*** = 1\n",
    "\n",
    "2. Play around with examples and visualize.\n",
    "\n",
    "    <img src=\"src/recursion_002.png\" alt=\"Recursion002\" width=\"900\" height=\"auto\">\n",
    "\n",
    "3. Relate hard cases to simpler cases.\n",
    "\n",
    "    <img src=\"src/recursion_003.png\" alt=\"Recursion003\" width=\"900\" height=\"auto\">\n",
    "\n",
    "4. Generalize the pattern.\n",
    "\n",
    "    <img src=\"src/recursion_004.png\" alt=\"Recursion004\" width=\"900\" height=\"auto\">\n",
    "\n",
    "5. Write code by combining recursive pattern with the base case.\n",
    "\n",
    "    <img src=\"src/recursion_005.png\" alt=\"Recursion005\" width=\"900\" height=\"auto\">"
   ]
  },
  {
   "cell_type": "code",
   "execution_count": null,
   "metadata": {},
   "outputs": [],
   "source": [
    "def grid_paths(n, m):\n",
    "    if n == 1 or m == 1:\n",
    "        return 1\n",
    "    else:\n",
    "        return grid_paths(n, m-1) + grid_paths(n-1, m)"
   ]
  },
  {
   "cell_type": "code",
   "execution_count": null,
   "metadata": {},
   "outputs": [
    {
     "data": {
      "text/plain": [
       "1"
      ]
     },
     "execution_count": 3,
     "metadata": {},
     "output_type": "execute_result"
    }
   ],
   "source": [
    "grid_paths(1, 1)"
   ]
  },
  {
   "cell_type": "code",
   "execution_count": null,
   "metadata": {},
   "outputs": [
    {
     "data": {
      "text/plain": [
       "1"
      ]
     },
     "execution_count": 4,
     "metadata": {},
     "output_type": "execute_result"
    }
   ],
   "source": [
    "grid_paths(1, 4)"
   ]
  },
  {
   "cell_type": "code",
   "execution_count": null,
   "metadata": {},
   "outputs": [
    {
     "data": {
      "text/plain": [
       "1"
      ]
     },
     "execution_count": 5,
     "metadata": {},
     "output_type": "execute_result"
    }
   ],
   "source": [
    "grid_paths(4, 1)"
   ]
  },
  {
   "cell_type": "code",
   "execution_count": null,
   "metadata": {},
   "outputs": [
    {
     "data": {
      "text/plain": [
       "6"
      ]
     },
     "execution_count": 6,
     "metadata": {},
     "output_type": "execute_result"
    }
   ],
   "source": [
    "grid_paths(3, 3)"
   ]
  },
  {
   "cell_type": "code",
   "execution_count": null,
   "metadata": {},
   "outputs": [
    {
     "data": {
      "text/plain": [
       "20"
      ]
     },
     "execution_count": 7,
     "metadata": {},
     "output_type": "execute_result"
    }
   ],
   "source": [
    "grid_paths(4, 4)"
   ]
  },
  {
   "cell_type": "markdown",
   "metadata": {},
   "source": [
    "---"
   ]
  },
  {
   "cell_type": "markdown",
   "metadata": {},
   "source": [
    "## Problem 3\n",
    "\n",
    "Write a function that counts the number of ways you can partition ***n*** objects using parts up to ***m*** (assuming ***m*** >= 0)\n",
    "\n",
    "<img src=\"src/recursion_006.png\" alt=\"Recursion006\" width=\"400\" height=\"auto\">\n",
    "\n",
    "1. What is the simplest possible:\n",
    "\n",
    "    `count_partitions(n, m) -> 1 if n = 0` <br>\n",
    "    `count_partitions(n, m) -> 0 if m = 0`\n",
    "\n",
    "2. Play around with examples and visualize.\n",
    "\n",
    "    <img src=\"src/recursion_007.png\" alt=\"Recursion007\" width=\"900\" height=\"auto\">\n",
    "\n",
    "3. Relate hard cases to simpler cases.\n",
    "\n",
    "    <img src=\"src/recursion_008.png\" alt=\"Recursion008\" width=\"900\" height=\"auto\">\n",
    "\n",
    "4. Generalize the pattern.\n",
    "\n",
    "    <img src=\"src/recursion_009.png\" alt=\"Recursion009\" width=\"900\" height=\"auto\">\n",
    "\n",
    "5. Write code by combining recursive pattern with the base case.\n",
    "\n",
    "    <img src=\"src/recursion_010.png\" alt=\"Recursion010\" width=\"900\" height=\"auto\">"
   ]
  },
  {
   "cell_type": "code",
   "execution_count": null,
   "metadata": {},
   "outputs": [],
   "source": [
    "def count_partitions(n, m):\n",
    "    if n == 0:\n",
    "        return 1\n",
    "    elif m == 0 or n < 0:\n",
    "        return 0\n",
    "    else:\n",
    "        return count_partitions(n - m, m) + count_partitions(n, m - 1)"
   ]
  }
 ],
 "metadata": {
  "kernelspec": {
   "display_name": "venv",
   "language": "python",
   "name": "python3"
  },
  "language_info": {
   "codemirror_mode": {
    "name": "ipython",
    "version": 3
   },
   "file_extension": ".py",
   "mimetype": "text/x-python",
   "name": "python",
   "nbconvert_exporter": "python",
   "pygments_lexer": "ipython3",
   "version": "3.11.3"
  }
 },
 "nbformat": 4,
 "nbformat_minor": 2
}
